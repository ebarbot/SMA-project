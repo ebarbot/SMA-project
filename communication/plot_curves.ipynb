{
 "cells": [
  {
   "cell_type": "code",
   "execution_count": 1,
   "metadata": {},
   "outputs": [],
   "source": [
    "from ArgumentModel import ArgumentModel\n",
    "\n",
    "\n",
    "model = ArgumentModel(num_agents=10, verbose=False)\n",
    "\n",
    "model.run_n_steps(10)"
   ]
  },
  {
   "cell_type": "code",
   "execution_count": 2,
   "metadata": {},
   "outputs": [
    {
     "name": "stderr",
     "output_type": "stream",
     "text": [
      "/tmp/ipykernel_1734572/4117430538.py:14: SettingWithCopyWarning: \n",
      "A value is trying to be set on a copy of a slice from a DataFrame\n",
      "\n",
      "See the caveats in the documentation: https://pandas.pydata.org/pandas-docs/stable/user_guide/indexing.html#returning-a-view-versus-a-copy\n",
      "  df['total'][agent] = total[agent]\n"
     ]
    },
    {
     "data": {
      "text/html": [
       "<div>\n",
       "<style scoped>\n",
       "    .dataframe tbody tr th:only-of-type {\n",
       "        vertical-align: middle;\n",
       "    }\n",
       "\n",
       "    .dataframe tbody tr th {\n",
       "        vertical-align: top;\n",
       "    }\n",
       "\n",
       "    .dataframe thead th {\n",
       "        text-align: right;\n",
       "    }\n",
       "</style>\n",
       "<table border=\"1\" class=\"dataframe\">\n",
       "  <thead>\n",
       "    <tr style=\"text-align: right;\">\n",
       "      <th></th>\n",
       "      <th>Agent 1</th>\n",
       "      <th>Agent 2</th>\n",
       "      <th>Agent 3</th>\n",
       "      <th>Agent 4</th>\n",
       "      <th>Agent 5</th>\n",
       "      <th>Agent 6</th>\n",
       "      <th>Agent 7</th>\n",
       "      <th>Agent 8</th>\n",
       "      <th>Agent 9</th>\n",
       "      <th>Agent 10</th>\n",
       "      <th>total</th>\n",
       "    </tr>\n",
       "  </thead>\n",
       "  <tbody>\n",
       "    <tr>\n",
       "      <th>Agent 8</th>\n",
       "      <td>[C]</td>\n",
       "      <td>[C]</td>\n",
       "      <td>[]</td>\n",
       "      <td>[C]</td>\n",
       "      <td>[]</td>\n",
       "      <td>[C]</td>\n",
       "      <td>[]</td>\n",
       "      <td>[]</td>\n",
       "      <td>[]</td>\n",
       "      <td>[]</td>\n",
       "      <td>{C}</td>\n",
       "    </tr>\n",
       "    <tr>\n",
       "      <th>Agent 3</th>\n",
       "      <td>[D]</td>\n",
       "      <td>[]</td>\n",
       "      <td>[]</td>\n",
       "      <td>[]</td>\n",
       "      <td>[]</td>\n",
       "      <td>[]</td>\n",
       "      <td>[]</td>\n",
       "      <td>[]</td>\n",
       "      <td>[]</td>\n",
       "      <td>[]</td>\n",
       "      <td>{D}</td>\n",
       "    </tr>\n",
       "    <tr>\n",
       "      <th>Agent 6</th>\n",
       "      <td>[C]</td>\n",
       "      <td>[C]</td>\n",
       "      <td>[]</td>\n",
       "      <td>[C]</td>\n",
       "      <td>[]</td>\n",
       "      <td>[]</td>\n",
       "      <td>[]</td>\n",
       "      <td>[C]</td>\n",
       "      <td>[]</td>\n",
       "      <td>[C]</td>\n",
       "      <td>{C}</td>\n",
       "    </tr>\n",
       "    <tr>\n",
       "      <th>Agent 4</th>\n",
       "      <td>[]</td>\n",
       "      <td>[C]</td>\n",
       "      <td>[]</td>\n",
       "      <td>[]</td>\n",
       "      <td>[]</td>\n",
       "      <td>[C]</td>\n",
       "      <td>[]</td>\n",
       "      <td>[C]</td>\n",
       "      <td>[]</td>\n",
       "      <td>[]</td>\n",
       "      <td>{C}</td>\n",
       "    </tr>\n",
       "    <tr>\n",
       "      <th>Agent 1</th>\n",
       "      <td>[]</td>\n",
       "      <td>[]</td>\n",
       "      <td>[D]</td>\n",
       "      <td>[]</td>\n",
       "      <td>[]</td>\n",
       "      <td>[C]</td>\n",
       "      <td>[]</td>\n",
       "      <td>[C]</td>\n",
       "      <td>[]</td>\n",
       "      <td>[]</td>\n",
       "      <td>{D, C}</td>\n",
       "    </tr>\n",
       "    <tr>\n",
       "      <th>Agent 2</th>\n",
       "      <td>[]</td>\n",
       "      <td>[]</td>\n",
       "      <td>[]</td>\n",
       "      <td>[C]</td>\n",
       "      <td>[]</td>\n",
       "      <td>[C]</td>\n",
       "      <td>[]</td>\n",
       "      <td>[C]</td>\n",
       "      <td>[]</td>\n",
       "      <td>[]</td>\n",
       "      <td>{C}</td>\n",
       "    </tr>\n",
       "    <tr>\n",
       "      <th>Agent 10</th>\n",
       "      <td>[]</td>\n",
       "      <td>[]</td>\n",
       "      <td>[]</td>\n",
       "      <td>[]</td>\n",
       "      <td>[E]</td>\n",
       "      <td>[C]</td>\n",
       "      <td>[E]</td>\n",
       "      <td>[]</td>\n",
       "      <td>[]</td>\n",
       "      <td>[]</td>\n",
       "      <td>{E, C}</td>\n",
       "    </tr>\n",
       "    <tr>\n",
       "      <th>Agent 9</th>\n",
       "      <td>[]</td>\n",
       "      <td>[]</td>\n",
       "      <td>[]</td>\n",
       "      <td>[]</td>\n",
       "      <td>[E]</td>\n",
       "      <td>[]</td>\n",
       "      <td>[E]</td>\n",
       "      <td>[]</td>\n",
       "      <td>[]</td>\n",
       "      <td>[]</td>\n",
       "      <td>{E}</td>\n",
       "    </tr>\n",
       "    <tr>\n",
       "      <th>Agent 5</th>\n",
       "      <td>[]</td>\n",
       "      <td>[]</td>\n",
       "      <td>[]</td>\n",
       "      <td>[]</td>\n",
       "      <td>[]</td>\n",
       "      <td>[]</td>\n",
       "      <td>[E]</td>\n",
       "      <td>[]</td>\n",
       "      <td>[E]</td>\n",
       "      <td>[E]</td>\n",
       "      <td>{E}</td>\n",
       "    </tr>\n",
       "    <tr>\n",
       "      <th>Agent 7</th>\n",
       "      <td>[]</td>\n",
       "      <td>[]</td>\n",
       "      <td>[]</td>\n",
       "      <td>[]</td>\n",
       "      <td>[]</td>\n",
       "      <td>[]</td>\n",
       "      <td>[]</td>\n",
       "      <td>[]</td>\n",
       "      <td>[E]</td>\n",
       "      <td>[E]</td>\n",
       "      <td>{E}</td>\n",
       "    </tr>\n",
       "  </tbody>\n",
       "</table>\n",
       "</div>"
      ],
      "text/plain": [
       "         Agent 1 Agent 2 Agent 3 Agent 4 Agent 5 Agent 6 Agent 7 Agent 8   \n",
       "Agent 8      [C]     [C]      []     [C]      []     [C]      []      []  \\\n",
       "Agent 3      [D]      []      []      []      []      []      []      []   \n",
       "Agent 6      [C]     [C]      []     [C]      []      []      []     [C]   \n",
       "Agent 4       []     [C]      []      []      []     [C]      []     [C]   \n",
       "Agent 1       []      []     [D]      []      []     [C]      []     [C]   \n",
       "Agent 2       []      []      []     [C]      []     [C]      []     [C]   \n",
       "Agent 10      []      []      []      []     [E]     [C]     [E]      []   \n",
       "Agent 9       []      []      []      []     [E]      []     [E]      []   \n",
       "Agent 5       []      []      []      []      []      []     [E]      []   \n",
       "Agent 7       []      []      []      []      []      []      []      []   \n",
       "\n",
       "         Agent 9 Agent 10   total  \n",
       "Agent 8       []       []     {C}  \n",
       "Agent 3       []       []     {D}  \n",
       "Agent 6       []      [C]     {C}  \n",
       "Agent 4       []       []     {C}  \n",
       "Agent 1       []       []  {D, C}  \n",
       "Agent 2       []       []     {C}  \n",
       "Agent 10      []       []  {E, C}  \n",
       "Agent 9       []       []     {E}  \n",
       "Agent 5      [E]      [E]     {E}  \n",
       "Agent 7      [E]      [E]     {E}  "
      ]
     },
     "metadata": {},
     "output_type": "display_data"
    },
    {
     "name": "stdout",
     "output_type": "stream",
     "text": [
      "Agreed: []\n"
     ]
    }
   ],
   "source": [
    "df_model = model.datacollector.get_model_vars_dataframe()\n",
    "import numpy as np\n",
    "import pandas as pd\n",
    "df = pd.DataFrame(dict(df_model.iloc[-1][\"Commited\"]))\n",
    "df = df.applymap(lambda x: [] if not type(x) == list else x)\n",
    "\n",
    "total = {}\n",
    "df['total'] = np.zeros(len(df))\n",
    "for agent in df:\n",
    "    total[agent] = set()\n",
    "    for val in df[agent].values:\n",
    "        total[agent] = total[agent].union(set(val))\n",
    "    \n",
    "    df['total'][agent] = total[agent]\n",
    "\n",
    "display(df)\n",
    "agreed = df['total'][0]\n",
    "for i in df['total'][1:]:\n",
    "    agreed = agreed.intersection(i)\n",
    "print(f\"Agreed: {list(agreed)}\")"
   ]
  },
  {
   "cell_type": "code",
   "execution_count": 14,
   "metadata": {},
   "outputs": [],
   "source": [
    "all_accepted = []\n",
    "for i in df['total']:\n",
    "    for j in i:\n",
    "        all_accepted.append(j)"
   ]
  },
  {
   "cell_type": "code",
   "execution_count": 15,
   "metadata": {},
   "outputs": [
    {
     "data": {
      "text/plain": [
       "['C', 'D', 'C', 'C', 'D', 'C', 'C', 'E', 'C', 'E', 'E', 'E']"
      ]
     },
     "execution_count": 15,
     "metadata": {},
     "output_type": "execute_result"
    }
   ],
   "source": [
    "all_accepted"
   ]
  },
  {
   "cell_type": "code",
   "execution_count": 17,
   "metadata": {},
   "outputs": [
    {
     "data": {
      "text/plain": [
       "<Axes: ylabel='Count'>"
      ]
     },
     "execution_count": 17,
     "metadata": {},
     "output_type": "execute_result"
    },
    {
     "data": {
      "image/png": "[encoded data removed]",
      "text/plain": [
       "<Figure size 2000x500 with 1 Axes>"
      ]
     },
     "metadata": {},
     "output_type": "display_data"
    }
   ],
   "source": [
    "import seaborn as sns\n",
    "import matplotlib.pyplot as plt\n",
    "plt.figure(figsize=(20, 5))\n",
    "sns.histplot(all_accepted, bins=len(set(all_accepted)))"
   ]
  }
 ],
 "metadata": {
  "kernelspec": {
   "display_name": "Python 3",
   "language": "python",
   "name": "python3"
  },
  "language_info": {
   "codemirror_mode": {
    "name": "ipython",
    "version": 3
   },
   "file_extension": ".py",
   "mimetype": "text/x-python",
   "name": "python",
   "nbconvert_exporter": "python",
   "pygments_lexer": "ipython3",
   "version": "3.11.2"
  },
  "orig_nbformat": 4,
  "vscode": {
   "interpreter": {
    "hash": "bfe8756cb0f8f9c4b624bec456a9dbd9c47318a7e37fa5507560b030613c442d"
   }
  }
 },
 "nbformat": 4,
 "nbformat_minor": 2
}
